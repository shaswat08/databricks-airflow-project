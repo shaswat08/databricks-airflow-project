{
 "cells": [
  {
   "cell_type": "code",
   "execution_count": 0,
   "metadata": {
    "application/vnd.databricks.v1+cell": {
     "cellMetadata": {
      "byteLimit": 2048000,
      "rowLimit": 10000
     },
     "inputWidgets": {},
     "nuid": "7520c301-3ca6-42a8-8939-94d1f2bf77c4",
     "showTitle": true,
     "tableResultSettingsMap": {},
     "title": "ingesting from a xml file"
    }
   },
   "outputs": [],
   "source": [
    "from pyspark.sql.types import StructType, StructField, LongType, StringType, TimestampType\n",
    "\n",
    "schema = StructType([\n",
    "    StructField(\"_AcceptedAnswerId\", LongType(), True),\n",
    "    StructField(\"_AnswerCount\", LongType(), True),\n",
    "    StructField(\"_Body\", StringType(), True),\n",
    "    StructField(\"_ClosedDate\", TimestampType(), True),\n",
    "    StructField(\"_CommentCount\", LongType(), True),\n",
    "    StructField(\"_CommunityOwnedDate\", TimestampType(), True),\n",
    "    StructField(\"_ContentLicense\", StringType(), True),\n",
    "    StructField(\"_CreationDate\", TimestampType(), True),\n",
    "    StructField(\"_FavoriteCount\", LongType(), True),\n",
    "    StructField(\"_Id\", LongType(), True),\n",
    "    StructField(\"_LastActivityDate\", TimestampType(), True),\n",
    "    StructField(\"_LastEditDate\", TimestampType(), True),\n",
    "    StructField(\"_LastEditorDisplayName\", StringType(), True),\n",
    "    StructField(\"_LastEditorUserId\", LongType(), True),\n",
    "    StructField(\"_OwnerDisplayName\", StringType(), True),\n",
    "    StructField(\"_OwnerUserId\", LongType(), True),\n",
    "    StructField(\"_ParentId\", LongType(), True),\n",
    "    StructField(\"_PostTypeId\", LongType(), True),\n",
    "    StructField(\"_Score\", LongType(), True),\n",
    "    StructField(\"_Tags\", StringType(), True),\n",
    "    StructField(\"_Title\", StringType(), True),\n",
    "    StructField(\"_ViewCount\", LongType(), True)\n",
    "])\n",
    "\n",
    "df = (\n",
    "    spark.read.format('xml')\n",
    "        .option('rootTag', 'posts')\n",
    "        .option('rowTag', 'row')\n",
    "        .schema(schema)\n",
    "        .load('/Volumes/data_platform/project/my_volume/Posts.xml')\n",
    ")"
   ]
  },
  {
   "cell_type": "code",
   "execution_count": 0,
   "metadata": {
    "application/vnd.databricks.v1+cell": {
     "cellMetadata": {
      "byteLimit": 2048000,
      "rowLimit": 10000
     },
     "inputWidgets": {},
     "nuid": "afab9ca8-451e-4663-9cb0-2436ee2c4b4a",
     "showTitle": false,
     "tableResultSettingsMap": {},
     "title": ""
    }
   },
   "outputs": [],
   "source": [
    "display(df.limit(3))"
   ]
  },
  {
   "cell_type": "code",
   "execution_count": 0,
   "metadata": {
    "application/vnd.databricks.v1+cell": {
     "cellMetadata": {
      "byteLimit": 2048000,
      "rowLimit": 10000
     },
     "inputWidgets": {},
     "nuid": "b0aed311-618a-4d19-902e-82bfdb835308",
     "showTitle": true,
     "tableResultSettingsMap": {},
     "title": "renaming column names"
    }
   },
   "outputs": [],
   "source": [
    "new_col = [col[1:] for col in df.columns]\n",
    "df = df.toDF(*new_col)"
   ]
  },
  {
   "cell_type": "code",
   "execution_count": 0,
   "metadata": {
    "application/vnd.databricks.v1+cell": {
     "cellMetadata": {
      "byteLimit": 2048000,
      "rowLimit": 10000
     },
     "inputWidgets": {},
     "nuid": "abec3a99-f766-4697-955c-db9984fd09a0",
     "showTitle": true,
     "tableResultSettingsMap": {},
     "title": "writing the data to a table"
    }
   },
   "outputs": [],
   "source": [
    "df.write.mode('overwrite').option('overwriteSchema', 'true').saveAsTable('data_platform.project.raw_posts')"
   ]
  },
  {
   "cell_type": "code",
   "execution_count": 0,
   "metadata": {
    "application/vnd.databricks.v1+cell": {
     "cellMetadata": {},
     "inputWidgets": {},
     "nuid": "a1a18d72-2852-4710-9f50-1b65e8158185",
     "showTitle": false,
     "tableResultSettingsMap": {},
     "title": ""
    }
   },
   "outputs": [],
   "source": []
  }
 ],
 "metadata": {
  "application/vnd.databricks.v1+notebook": {
   "computePreferences": {
    "hardware": {
     "accelerator": null,
     "gpuPoolId": null,
     "memory": null
    }
   },
   "dashboards": [],
   "environmentMetadata": {
    "base_environment": "",
    "environment_version": "3"
   },
   "inputWidgetPreferences": null,
   "language": "python",
   "notebookMetadata": {
    "pythonIndentUnit": 4
   },
   "notebookName": "raw_posts",
   "widgets": {}
  },
  "language_info": {
   "name": "python"
  }
 },
 "nbformat": 4,
 "nbformat_minor": 0
}
