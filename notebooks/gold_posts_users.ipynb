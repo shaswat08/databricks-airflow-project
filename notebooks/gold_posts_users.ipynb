{
 "cells": [
  {
   "cell_type": "code",
   "execution_count": 0,
   "metadata": {
    "application/vnd.databricks.v1+cell": {
     "cellMetadata": {
      "byteLimit": 2048000,
      "rowLimit": 10000
     },
     "inputWidgets": {},
     "nuid": "8f2dd73c-926f-45c5-8045-13ce4ca6c0f5",
     "showTitle": false,
     "tableResultSettingsMap": {},
     "title": ""
    }
   },
   "outputs": [],
   "source": [
    "raw_users_df = spark.read.table('data_platform.default.raw_users')\n",
    "stg_posts_df = spark.read.table('data_platform.default.stg_posts')"
   ]
  },
  {
   "cell_type": "code",
   "execution_count": 0,
   "metadata": {
    "application/vnd.databricks.v1+cell": {
     "cellMetadata": {
      "byteLimit": 2048000,
      "rowLimit": 10000
     },
     "inputWidgets": {},
     "nuid": "82f73d86-4629-4b3b-92e3-fa9b8e99b6d0",
     "showTitle": true,
     "tableResultSettingsMap": {},
     "title": "One big table"
    }
   },
   "outputs": [],
   "source": [
    "from pyspark.sql import DataFrame \n",
    "from pyspark.sql import functions as F\n",
    "\n",
    "def posts_users_OBT(raw_users_df: DataFrame, stg_posts_df: DataFrame) -> DataFrame:\n",
    "    return(\n",
    "        stg_posts_df.alias('posts')\n",
    "            .withColumnRenamed('CreationDate', 'PostCreationDate')\n",
    "            .join(\n",
    "                raw_users_df.withColumnRenamed('CreationDate', 'UserCreationDate')\n",
    "                    .alias('users'),\n",
    "                on = F.col('posts.OwnerUserId') == F.col('users.Id'),\n",
    "                how = 'left'\n",
    "            )\n",
    "    )\n",
    "marts_posts_users_df = posts_users_OBT(raw_users_df, stg_posts_df)"
   ]
  },
  {
   "cell_type": "code",
   "execution_count": 0,
   "metadata": {
    "application/vnd.databricks.v1+cell": {
     "cellMetadata": {
      "byteLimit": 2048000,
      "rowLimit": 10000
     },
     "inputWidgets": {},
     "nuid": "a35831d9-c3aa-4514-89bc-7e2e3ac7b254",
     "showTitle": false,
     "tableResultSettingsMap": {},
     "title": ""
    }
   },
   "outputs": [],
   "source": [
    "marts_posts_users_df.write.mode('overwrite').option('overwriteSchema', 'true').saveAsTable('data_platform.default.marts_posts_user')"
   ]
  },
  {
   "cell_type": "code",
   "execution_count": 0,
   "metadata": {
    "application/vnd.databricks.v1+cell": {
     "cellMetadata": {
      "byteLimit": 2048000,
      "rowLimit": 10000
     },
     "inputWidgets": {},
     "nuid": "6c2205bd-4f60-4821-acf6-a5075ceca96c",
     "showTitle": false,
     "tableResultSettingsMap": {},
     "title": ""
    }
   },
   "outputs": [],
   "source": [
    "display(marts_posts_users_df.limit(3))"
   ]
  },
  {
   "cell_type": "code",
   "execution_count": 0,
   "metadata": {
    "application/vnd.databricks.v1+cell": {
     "cellMetadata": {},
     "inputWidgets": {},
     "nuid": "2cefd0b4-dcd7-4ca9-9d8f-157885b656fa",
     "showTitle": false,
     "tableResultSettingsMap": {},
     "title": ""
    }
   },
   "outputs": [],
   "source": []
  }
 ],
 "metadata": {
  "application/vnd.databricks.v1+notebook": {
   "computePreferences": null,
   "dashboards": [],
   "environmentMetadata": {
    "base_environment": "",
    "environment_version": "3"
   },
   "inputWidgetPreferences": null,
   "language": "python",
   "notebookMetadata": {
    "pythonIndentUnit": 4
   },
   "notebookName": "gold_posts_users",
   "widgets": {}
  },
  "language_info": {
   "name": "python"
  }
 },
 "nbformat": 4,
 "nbformat_minor": 0
}
