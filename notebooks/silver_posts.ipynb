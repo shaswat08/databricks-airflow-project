{
 "cells": [
  {
   "cell_type": "code",
   "execution_count": 0,
   "metadata": {
    "application/vnd.databricks.v1+cell": {
     "cellMetadata": {
      "byteLimit": 2048000,
      "rowLimit": 10000
     },
     "inputWidgets": {},
     "nuid": "519a86a7-45ea-427b-8c8b-4b0b72c18b04",
     "showTitle": false,
     "tableResultSettingsMap": {},
     "title": ""
    }
   },
   "outputs": [],
   "source": [
    "raw_posts_df = spark.read.table('data_platform.default.raw_posts')"
   ]
  },
  {
   "cell_type": "code",
   "execution_count": 0,
   "metadata": {
    "application/vnd.databricks.v1+cell": {
     "cellMetadata": {
      "byteLimit": 2048000,
      "rowLimit": 10000
     },
     "inputWidgets": {},
     "nuid": "cb8c7c6a-cb84-4630-a9e3-a69f96075a90",
     "showTitle": true,
     "tableResultSettingsMap": {},
     "title": "transformation"
    }
   },
   "outputs": [],
   "source": [
    "from pyspark.sql import functions as F\n",
    "from pyspark.sql.types import StructType, StructField, StringType, IntegerType\n",
    "from pyspark.sql import DataFrame\n",
    "\n",
    "def split_tags_into_array(df: DataFrame) -> DataFrame:\n",
    "    return(\n",
    "        df.withColumn('TagsArray', F.filter(F.split(F.col('Tags'), r'\\|'), lambda x: x!= '')).drop('Tags')\n",
    "    )\n",
    "\n",
    "def rename_columns(df: DataFrame) -> DataFrame:\n",
    "    return(\n",
    "        df.withColumnRenamed('Id', 'PostId')\n",
    "    )\n",
    "\n",
    "def map_post_type(df: DataFrame) -> DataFrame:\n",
    "    map_data = [\n",
    "        (1, \"Question\"),\n",
    "        (2, \"Answer\"),\n",
    "        (3, \"Orphaned tag wiki\"),\n",
    "        (4, \"Tag wiki excerpt\"),\n",
    "        (5, \"Tag wiki\"),\n",
    "        (6, \"Moderator nomination\"),\n",
    "        (7, \"Wiki placeholder\"),\n",
    "        (8, \"Privilege wiki\"),\n",
    "        (9, \"Article\"),\n",
    "        (10, \"HelpArticle\"),\n",
    "        (12, \"Collection\"),\n",
    "        (13, \"ModeratorQuestionnaireResponse\"),\n",
    "        (14, \"Announcement\"),\n",
    "        (15, \"CollectiveDiscussion\"),\n",
    "        (17, \"CollectiveCollection\")\n",
    "    ]\n",
    "    map_schema = StructType([\n",
    "        StructField('PostTypeId', IntegerType(), False),\n",
    "        StructField('PostType', StringType(), False)\n",
    "    ])\n",
    "    map_df = spark.createDataFrame(map_data, schema = map_schema)\n",
    "\n",
    "    return(\n",
    "        df.join(\n",
    "            F.broadcast(map_df),\n",
    "            on = 'PostTypeId',\n",
    "            how = 'left'\n",
    "        )\n",
    "    )\n",
    "\n",
    "stg_posts_df = (\n",
    "    raw_posts_df\n",
    "    .transform(split_tags_into_array)\n",
    "    .transform(rename_columns)\n",
    "    .transform(map_post_type)\n",
    ")\n",
    "\n",
    "\n",
    "\n"
   ]
  },
  {
   "cell_type": "code",
   "execution_count": 0,
   "metadata": {
    "application/vnd.databricks.v1+cell": {
     "cellMetadata": {
      "byteLimit": 2048000,
      "rowLimit": 10000
     },
     "inputWidgets": {},
     "nuid": "b0a52cf3-344f-4c60-87e4-d55d0a70f6f4",
     "showTitle": true,
     "tableResultSettingsMap": {},
     "title": "Incremental upsert"
    }
   },
   "outputs": [],
   "source": [
    "from pyspark.sql import functions as F\n",
    "from pyspark.sql import DataFrame\n",
    "from delta.tables import DeltaTable\n",
    "\n",
    "\n",
    "def incremental_upsert(dest_table: str, df: DataFrame, unique_key: str, updated_at: str, full_refresh = False):\n",
    "    if not spark.catalog.tableExists(dest_table) or full_refresh:\n",
    "        (\n",
    "            df.write\n",
    "                .format('delta')\n",
    "                .mode('overwrite')\n",
    "                .option('overwriteSchema', 'true')\n",
    "                .saveAsTable(dest_table)\n",
    "        )\n",
    "    else:\n",
    "        latest_date = (\n",
    "            spark.read.table(dest_table)\n",
    "                .agg(F.max(updated_at).alias('max_ts'))\n",
    "                .collect()[0]['max_ts']\n",
    "        )\n",
    "        increment_df = df.filter(F.col(updated_at) > latest_date)\n",
    "        if increment_df.limit(1).count() > 0:\n",
    "            delta_table = DeltaTable.forName(spark, dest_table)\n",
    "            (\n",
    "                delta_table.alias('d').merge(\n",
    "                    source = increment_df.alias('i'),\n",
    "                    condition = f'd.{unique_key} = i.{unique_key}'\n",
    "                )\n",
    "                .whenMatchedUpdateAll()\n",
    "                .whenNotMatchedInsertAll()\n",
    "                .execute()\n",
    "            )\n",
    "dest_table = 'data_platform.default.stg_posts'\n",
    "incremental_upsert(dest_table, stg_posts_df, 'PostId', 'CreationDate')"
   ]
  },
  {
   "cell_type": "code",
   "execution_count": 0,
   "metadata": {
    "application/vnd.databricks.v1+cell": {
     "cellMetadata": {
      "byteLimit": 2048000,
      "rowLimit": 10000
     },
     "inputWidgets": {},
     "nuid": "6f834600-e10c-444d-a4fe-212aebad6a0d",
     "showTitle": true,
     "tableResultSettingsMap": {},
     "title": "spark optimization"
    }
   },
   "outputs": [],
   "source": [
    "num_partitions = len(spark.table(dest_table).inputFiles())\n",
    "display(num_partitions)\n"
   ]
  },
  {
   "cell_type": "code",
   "execution_count": 0,
   "metadata": {
    "application/vnd.databricks.v1+cell": {
     "cellMetadata": {},
     "inputWidgets": {},
     "nuid": "ce2acd67-d53c-43a7-8e3e-6d2b8679ce04",
     "showTitle": false,
     "tableResultSettingsMap": {},
     "title": ""
    }
   },
   "outputs": [],
   "source": []
  }
 ],
 "metadata": {
  "application/vnd.databricks.v1+notebook": {
   "computePreferences": {
    "hardware": {
     "accelerator": null,
     "gpuPoolId": null,
     "memory": null
    }
   },
   "dashboards": [],
   "environmentMetadata": {
    "base_environment": "",
    "environment_version": "3"
   },
   "inputWidgetPreferences": null,
   "language": "python",
   "notebookMetadata": {
    "pythonIndentUnit": 4
   },
   "notebookName": "silver_posts",
   "widgets": {}
  },
  "language_info": {
   "name": "python"
  }
 },
 "nbformat": 4,
 "nbformat_minor": 0
}
