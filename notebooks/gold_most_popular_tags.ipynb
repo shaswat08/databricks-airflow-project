{
 "cells": [
  {
   "cell_type": "code",
   "execution_count": 0,
   "metadata": {
    "application/vnd.databricks.v1+cell": {
     "cellMetadata": {
      "byteLimit": 2048000,
      "rowLimit": 10000
     },
     "inputWidgets": {},
     "nuid": "e8871bf5-2012-46f6-921b-a28500ec38be",
     "showTitle": false,
     "tableResultSettingsMap": {},
     "title": ""
    }
   },
   "outputs": [],
   "source": [
    "stg_posts_df = spark.read.table('data_platform.default.stg_posts')"
   ]
  },
  {
   "cell_type": "code",
   "execution_count": 0,
   "metadata": {
    "application/vnd.databricks.v1+cell": {
     "cellMetadata": {
      "byteLimit": 2048000,
      "rowLimit": 10000
     },
     "inputWidgets": {},
     "nuid": "51162dcf-6952-4ef1-8f13-eb72e5980652",
     "showTitle": false,
     "tableResultSettingsMap": {},
     "title": ""
    }
   },
   "outputs": [],
   "source": [
    "from pyspark.sql import functions as F\n",
    "from pyspark.sql import DataFrame \n",
    "\n",
    "def posts_top_tags(stg_posts_df: DataFrame) -> DataFrame:\n",
    "    return(\n",
    "        stg_posts_df\n",
    "            .withColumn('tag_exploded', F.explode('TagsArray'))\n",
    "            .groupBy('tag_exploded')\n",
    "            .agg(F.approx_count_distinct('PostId').alias('tags_count'))\n",
    "            .orderBy(F.col('tags_count').desc())\n",
    "    )\n",
    "\n",
    "\n",
    "mart_top_tags_df = posts_top_tags(stg_posts_df)\n",
    "mart_top_tags_df.write.mode('overwrite').saveAsTable('data_platform.default.marts_top_tags')\n"
   ]
  },
  {
   "cell_type": "code",
   "execution_count": 0,
   "metadata": {
    "application/vnd.databricks.v1+cell": {
     "cellMetadata": {
      "byteLimit": 2048000,
      "rowLimit": 10000
     },
     "inputWidgets": {},
     "nuid": "bc077a9d-ce9f-4494-9857-7e0b59853722",
     "showTitle": false,
     "tableResultSettingsMap": {},
     "title": ""
    }
   },
   "outputs": [],
   "source": [
    "display(spark.table('data_platform.default.marts_top_tags').limit(4))"
   ]
  },
  {
   "cell_type": "code",
   "execution_count": 0,
   "metadata": {
    "application/vnd.databricks.v1+cell": {
     "cellMetadata": {},
     "inputWidgets": {},
     "nuid": "73f641ed-5df6-4f01-a1e2-e536c2b7049b",
     "showTitle": false,
     "tableResultSettingsMap": {},
     "title": ""
    }
   },
   "outputs": [],
   "source": []
  }
 ],
 "metadata": {
  "application/vnd.databricks.v1+notebook": {
   "computePreferences": null,
   "dashboards": [],
   "environmentMetadata": {
    "base_environment": "",
    "environment_version": "3"
   },
   "inputWidgetPreferences": null,
   "language": "python",
   "notebookMetadata": {
    "pythonIndentUnit": 4
   },
   "notebookName": "gold_most_popular_tags",
   "widgets": {}
  },
  "language_info": {
   "name": "python"
  }
 },
 "nbformat": 4,
 "nbformat_minor": 0
}
